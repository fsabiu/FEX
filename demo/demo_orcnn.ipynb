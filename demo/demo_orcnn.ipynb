{
 "cells": [
  {
   "cell_type": "code",
   "execution_count": 1,
   "metadata": {},
   "outputs": [
    {
     "name": "stderr",
     "output_type": "stream",
     "text": [
      "/home/ubuntu/anaconda3/envs/openmmlab/lib/python3.8/site-packages/tqdm/auto.py:21: TqdmWarning: IProgress not found. Please update jupyter and ipywidgets. See https://ipywidgets.readthedocs.io/en/stable/user_install.html\n",
      "  from .autonotebook import tqdm as notebook_tqdm\n",
      "/home/ubuntu/anaconda3/envs/openmmlab/lib/python3.8/site-packages/mmcv/__init__.py:20: UserWarning: On January 1, 2023, MMCV will release v2.0.0, in which it will remove components related to the training process and add a data transformation module. In addition, it will rename the package names mmcv to mmcv-lite and mmcv-full to mmcv. See https://github.com/open-mmlab/mmcv/blob/master/docs/en/compatibility.md for more details.\n",
      "  warnings.warn(\n"
     ]
    },
    {
     "name": "stdout",
     "output_type": "stream",
     "text": [
      "/home/ubuntu/anaconda3/envs/openmmlab/lib/python3.8/site-packages/mmcv/__init__.py:20: UserWarning: On January 1, 2023, MMCV will release v2.0.0, in which it will remove components related to the training process and add a data transformation module. In addition, it will rename the package names mmcv to mmcv-lite and mmcv-full to mmcv. See https://github.com/open-mmlab/mmcv/blob/master/docs/en/compatibility.md for more details.\n",
      "  warnings.warn(\n",
      "processing oriented_rcnn_r50_fpn_1x_dota_le90...\n",
      "\u001b[2Kdownloading \u001b[90m━━━━━━━━━━━━━━━━━━━━━━━━━━━━━━━\u001b[0m \u001b[32m158.1/158.1 MiB\u001b[0m \u001b[31m2.4 MB/s\u001b[0m eta \u001b[36m0:00:00\u001b[0m00:01\u001b[0m00:02\u001b[0m\n",
      "\u001b[?25h\u001b[32mSuccessfully downloaded oriented_rcnn_r50_fpn_1x_dota_le90-6d2b2ce0.pth to /home/ubuntu/FEX/demo/models\u001b[0m\n",
      "\u001b[32mSuccessfully dumped oriented_rcnn_r50_fpn_1x_dota_le90.py to /home/ubuntu/FEX/demo/models\u001b[0m\n"
     ]
    },
    {
     "name": "stderr",
     "output_type": "stream",
     "text": [
      "/home/ubuntu/anaconda3/envs/openmmlab/lib/python3.8/site-packages/mmdet/models/dense_heads/anchor_head.py:116: UserWarning: DeprecationWarning: `num_anchors` is deprecated, for consistency or also use `num_base_priors` instead\n",
      "  warnings.warn('DeprecationWarning: `num_anchors` is deprecated, '\n"
     ]
    },
    {
     "name": "stdout",
     "output_type": "stream",
     "text": [
      "load checkpoint from local path: ./models/oriented_rcnn_r50_fpn_1x_dota_le90-6d2b2ce0.pth\n",
      "Model loaded: ./models/oriented_rcnn_r50_fpn_1x_dota_le90-6d2b2ce0.pth\n"
     ]
    }
   ],
   "source": [
    "import mmrotate\n",
    "import mmdet\n",
    "import mmcv\n",
    "from mmcv.runner import load_checkpoint\n",
    "from mmdet.apis import inference_detector, show_result_pyplot\n",
    "from mmrotate.models import build_detector\n",
    "import numpy as np\n",
    "import os\n",
    "from PIL import Image\n",
    "import time\n",
    "\n",
    "# Create the 'models' folder if it doesn't exist\n",
    "if not os.path.exists('models'):\n",
    "    os.mkdir('models')\n",
    "\n",
    "# Check if the files exist, and download them only if they don't\n",
    "config_file = './models/oriented_rcnn_r50_fpn_1x_dota_le90.py'\n",
    "checkpoint_file = './models/oriented_rcnn_r50_fpn_1x_dota_le90-6d2b2ce0.pth'\n",
    "\n",
    "if not os.path.exists(config_file) or not os.path.exists(checkpoint_file):\n",
    "    !mim download mmrotate --config oriented_rcnn_r50_fpn_1x_dota_le90 --dest ./models\n",
    "else:\n",
    "    print(\"Files already exist.\")\n",
    "\n",
    "# Set the device to be used for evaluation\n",
    "device='cuda:0'\n",
    "\n",
    "# Load the config\n",
    "config = mmcv.Config.fromfile(config_file)\n",
    "# Set pretrained to be None since we do not need pretrained model here\n",
    "config.model.pretrained = None\n",
    "\n",
    "# Initialize the detector\n",
    "model = build_detector(config.model)\n",
    "\n",
    "# Load checkpoint\n",
    "checkpoint = load_checkpoint(model, checkpoint_file, map_location=device)\n",
    "\n",
    "# Set the classes of models for inference\n",
    "model.CLASSES = checkpoint['meta']['CLASSES']\n",
    "\n",
    "# We need to set the model's cfg for inference\n",
    "model.cfg = config\n",
    "\n",
    "# Convert the model to GPU\n",
    "model.to(device)\n",
    "# Convert the model into evaluation mode\n",
    "model.eval()\n",
    "\n",
    "print(\"Model loaded: \" + str(checkpoint_file))"
   ]
  },
  {
   "cell_type": "code",
   "execution_count": 2,
   "metadata": {},
   "outputs": [],
   "source": [
    "def getObjects(modelname, model, result):\n",
    "    objects = []\n",
    "\n",
    "    if modelname == \"orcnn\":\n",
    "        bbox_result, segm_result = result, None\n",
    "        bboxes = np.vstack(bbox_result)\n",
    "\n",
    "        bboxes = np.vstack(bbox_result) #boxes (ndarray): Bounding boxes (with scores), shaped (n, 5) or (n, 6).\n",
    "        labels = [\n",
    "            np.full(bbox.shape[0], i, dtype=np.int32)\n",
    "            for i, bbox in enumerate(bbox_result)\n",
    "        ]\n",
    "        labels = np.concatenate(labels)\n",
    "\n",
    "        \n",
    "        for i, bbox in enumerate(bboxes):\n",
    "            xc, yc, w, h, ag = bbox[:5]\n",
    "            wx, wy = w / 2 * np.cos(ag), w / 2 * np.sin(ag)\n",
    "            hx, hy = -h / 2 * np.sin(ag), h / 2 * np.cos(ag)\n",
    "            #p1 = (xc - wx - hx, yc - wy - hy)\n",
    "            #p2 = (xc + wx - hx, yc + wy - hy)\n",
    "            #p3 = (xc + wx + hx, yc + wy + hy)\n",
    "            #p4 = (xc - wx + hx, yc - wy + hy)\n",
    "            x1 = xc - wx - hx\n",
    "            y1 = yc - wy - hy\n",
    "            x2 = xc + wx - hx\n",
    "            y2 = yc + wy - hy\n",
    "            x3 = xc + wx + hx\n",
    "            y3 = yc + wy + hy\n",
    "            x4 = xc - wx + hx\n",
    "            y4 = yc - wy + hy\n",
    "            \n",
    "            obj = {\n",
    "                \"bounds\": {\n",
    "                    \"x1\": x1,\n",
    "                    \"y1\": y1,\n",
    "                    \"x2\": x2,\n",
    "                    \"y1\": y2,\n",
    "                    \"x3\": x3,\n",
    "                    \"y3\": y3,\n",
    "                    \"x4\": x4,\n",
    "                    \"y4\": y4\n",
    "                },\n",
    "                \"confidence\": bbox[5],\n",
    "                \"tagName\": model.CLASSES[labels[i]]\n",
    "            }\n",
    "\n",
    "            objects.append(obj)\n",
    "    return objects"
   ]
  },
  {
   "cell_type": "code",
   "execution_count": 4,
   "metadata": {},
   "outputs": [
    {
     "name": "stdout",
     "output_type": "stream",
     "text": [
      "Elapsed time: 0.6358942985534668 seconds\n"
     ]
    },
    {
     "name": "stderr",
     "output_type": "stream",
     "text": [
      "/home/ubuntu/anaconda3/envs/openmmlab/lib/python3.8/site-packages/mmdet/models/dense_heads/anchor_head.py:123: UserWarning: DeprecationWarning: anchor_generator is deprecated, please use \"prior_generator\" instead\n",
      "  warnings.warn('DeprecationWarning: anchor_generator is deprecated, '\n"
     ]
    }
   ],
   "source": [
    "# Use the detector to do inference\n",
    "import time\n",
    "import numpy as np\n",
    "from PIL import Image\n",
    "start_time = time.time()\n",
    "\n",
    "img = 'demo.jpg'\n",
    "img_pil = Image.open(\"demo.jpg\")\n",
    "img_array = np.array(img_pil)\n",
    "result = inference_detector(model, img_array)\n",
    "end_time = time.time()\n",
    "\n",
    "elapsed_time = end_time - start_time\n",
    "print(\"Elapsed time:\", elapsed_time, \"seconds\")"
   ]
  },
  {
   "cell_type": "code",
   "execution_count": 5,
   "metadata": {},
   "outputs": [
    {
     "data": {
      "text/plain": [
       "(1024, 1024, 3)"
      ]
     },
     "execution_count": 5,
     "metadata": {},
     "output_type": "execute_result"
    }
   ],
   "source": [
    "np.shape(img_array)"
   ]
  },
  {
   "cell_type": "code",
   "execution_count": 11,
   "metadata": {},
   "outputs": [
    {
     "ename": "FileNotFoundError",
     "evalue": "[Errno 2] No such file or directory: 'images/orcnn_img_20240513122748285296.png'",
     "output_type": "error",
     "traceback": [
      "\u001b[0;31m---------------------------------------------------------------------------\u001b[0m",
      "\u001b[0;31mFileNotFoundError\u001b[0m                         Traceback (most recent call last)",
      "Cell \u001b[0;32mIn[11], line 12\u001b[0m\n\u001b[1;32m      9\u001b[0m name \u001b[38;5;241m=\u001b[39m \u001b[38;5;124mf\u001b[39m\u001b[38;5;124m\"\u001b[39m\u001b[38;5;124morcnn_img_\u001b[39m\u001b[38;5;132;01m{\u001b[39;00mtimestamp\u001b[38;5;132;01m}\u001b[39;00m\u001b[38;5;124m.\u001b[39m\u001b[38;5;132;01m{\u001b[39;00mfrmt\u001b[38;5;132;01m}\u001b[39;00m\u001b[38;5;124m\"\u001b[39m\n\u001b[1;32m     10\u001b[0m path \u001b[38;5;241m=\u001b[39m \u001b[38;5;124mf\u001b[39m\u001b[38;5;124m\"\u001b[39m\u001b[38;5;124mimages/\u001b[39m\u001b[38;5;132;01m{\u001b[39;00mname\u001b[38;5;132;01m}\u001b[39;00m\u001b[38;5;124m\"\u001b[39m\n\u001b[0;32m---> 12\u001b[0m \u001b[38;5;28;01mwith\u001b[39;00m \u001b[38;5;28;43mopen\u001b[39;49m\u001b[43m(\u001b[49m\u001b[43mpath\u001b[49m\u001b[43m,\u001b[49m\u001b[43m \u001b[49m\u001b[38;5;124;43m\"\u001b[39;49m\u001b[38;5;124;43mwb\u001b[39;49m\u001b[38;5;124;43m\"\u001b[39;49m\u001b[43m)\u001b[49m \u001b[38;5;28;01mas\u001b[39;00m fh:\n\u001b[1;32m     13\u001b[0m     fh\u001b[38;5;241m.\u001b[39mwrite(base64\u001b[38;5;241m.\u001b[39mb64decode(b64_image))\n\u001b[1;32m     15\u001b[0m im \u001b[38;5;241m=\u001b[39m Image\u001b[38;5;241m.\u001b[39mopen(path)\n",
      "File \u001b[0;32m~/anaconda3/envs/openmmlab/lib/python3.8/site-packages/IPython/core/interactiveshell.py:284\u001b[0m, in \u001b[0;36m_modified_open\u001b[0;34m(file, *args, **kwargs)\u001b[0m\n\u001b[1;32m    277\u001b[0m \u001b[38;5;28;01mif\u001b[39;00m file \u001b[38;5;129;01min\u001b[39;00m {\u001b[38;5;241m0\u001b[39m, \u001b[38;5;241m1\u001b[39m, \u001b[38;5;241m2\u001b[39m}:\n\u001b[1;32m    278\u001b[0m     \u001b[38;5;28;01mraise\u001b[39;00m \u001b[38;5;167;01mValueError\u001b[39;00m(\n\u001b[1;32m    279\u001b[0m         \u001b[38;5;124mf\u001b[39m\u001b[38;5;124m\"\u001b[39m\u001b[38;5;124mIPython won\u001b[39m\u001b[38;5;124m'\u001b[39m\u001b[38;5;124mt let you open fd=\u001b[39m\u001b[38;5;132;01m{\u001b[39;00mfile\u001b[38;5;132;01m}\u001b[39;00m\u001b[38;5;124m by default \u001b[39m\u001b[38;5;124m\"\u001b[39m\n\u001b[1;32m    280\u001b[0m         \u001b[38;5;124m\"\u001b[39m\u001b[38;5;124mas it is likely to crash IPython. If you know what you are doing, \u001b[39m\u001b[38;5;124m\"\u001b[39m\n\u001b[1;32m    281\u001b[0m         \u001b[38;5;124m\"\u001b[39m\u001b[38;5;124myou can use builtins\u001b[39m\u001b[38;5;124m'\u001b[39m\u001b[38;5;124m open.\u001b[39m\u001b[38;5;124m\"\u001b[39m\n\u001b[1;32m    282\u001b[0m     )\n\u001b[0;32m--> 284\u001b[0m \u001b[38;5;28;01mreturn\u001b[39;00m \u001b[43mio_open\u001b[49m\u001b[43m(\u001b[49m\u001b[43mfile\u001b[49m\u001b[43m,\u001b[49m\u001b[43m \u001b[49m\u001b[38;5;241;43m*\u001b[39;49m\u001b[43margs\u001b[49m\u001b[43m,\u001b[49m\u001b[43m \u001b[49m\u001b[38;5;241;43m*\u001b[39;49m\u001b[38;5;241;43m*\u001b[39;49m\u001b[43mkwargs\u001b[49m\u001b[43m)\u001b[49m\n",
      "\u001b[0;31mFileNotFoundError\u001b[0m: [Errno 2] No such file or directory: 'images/orcnn_img_20240513122748285296.png'"
     ]
    }
   ],
   "source": [
    "import base64\n",
    "import datetime\n",
    "from datetime import datetime\n",
    "with open('b64img.txt', 'r') as file:\n",
    "    b64_image = file.read()\n",
    "\n",
    "timestamp = datetime.now().strftime(\"%Y%m%d%H%M%S%f\")\n",
    "frmt = \"png\"\n",
    "name = f\"orcnn_img_{timestamp}.{frmt}\"\n",
    "path = f\"images/{name}\"\n",
    "\n",
    "with open(path, \"wb\") as fh:\n",
    "    fh.write(base64.b64decode(b64_image))\n",
    "\n",
    "im = Image.open(path)\n",
    "np_array = np.asarray(im)"
   ]
  },
  {
   "cell_type": "code",
   "execution_count": 8,
   "metadata": {},
   "outputs": [
    {
     "data": {
      "text/plain": [
       "(968759,)"
      ]
     },
     "execution_count": 8,
     "metadata": {},
     "output_type": "execute_result"
    }
   ],
   "source": [
    "# Convert the image to a NumPy array\n",
    "np_array = np.asarray(im)"
   ]
  },
  {
   "cell_type": "code",
   "execution_count": null,
   "metadata": {},
   "outputs": [],
   "source": []
  }
 ],
 "metadata": {
  "kernelspec": {
   "display_name": "IKARD",
   "language": "python",
   "name": "python3"
  },
  "language_info": {
   "codemirror_mode": {
    "name": "ipython",
    "version": 3
   },
   "file_extension": ".py",
   "mimetype": "text/x-python",
   "name": "python",
   "nbconvert_exporter": "python",
   "pygments_lexer": "ipython3",
   "version": "3.8.19"
  }
 },
 "nbformat": 4,
 "nbformat_minor": 2
}
