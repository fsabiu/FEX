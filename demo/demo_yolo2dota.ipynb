{
 "cells": [
  {
   "cell_type": "code",
   "execution_count": 8,
   "metadata": {},
   "outputs": [],
   "source": [
    "import cv2\n",
    "import numpy as np\n",
    "from PIL import Image, ImageDraw"
   ]
  },
  {
   "cell_type": "code",
   "execution_count": 9,
   "metadata": {},
   "outputs": [],
   "source": [
    "def read_labels_file(file_path):\n",
    "    \"\"\"\n",
    "    Reads a text file and returns a list of its lines.\n",
    "\n",
    "    :param file_path: Path to the text file.\n",
    "    :return: List of lines from the file.\n",
    "    \"\"\"\n",
    "    lines = []\n",
    "    try:\n",
    "        with open(file_path, 'r') as file:\n",
    "            lines = file.readlines()\n",
    "        # Strip newline characters from each line\n",
    "        lines = [line.strip() for line in lines]\n",
    "    except FileNotFoundError:\n",
    "        print(f\"The file at {file_path} was not found.\")\n",
    "    except IOError:\n",
    "        print(f\"An error occurred while reading the file at {file_path}.\")\n",
    "    \n",
    "    return lines\n"
   ]
  },
  {
   "cell_type": "code",
   "execution_count": 21,
   "metadata": {},
   "outputs": [],
   "source": [
    "def draw_annotations_on_image(annotations, image_path, output_path):\n",
    "    \"\"\"\n",
    "    Draws polygons on the image based on the given annotations.\n",
    "\n",
    "    :param annotations: List of annotations where each annotation is a string of coordinates.\n",
    "    :param image_path: Path to the input image.\n",
    "    :param output_path: Path to save the output image with drawn annotations.\n",
    "    \"\"\"\n",
    "    try:\n",
    "        # Open the image\n",
    "        image = Image.open(image_path)\n",
    "        print(image.size)\n",
    "        draw = ImageDraw.Draw(image)\n",
    "        \n",
    "        # Process each annotation\n",
    "        for annotation in annotations:\n",
    "            # Split the annotation string into individual numbers\n",
    "            coords = list(map(int, annotation.split()))\n",
    "            \n",
    "            # Extract the first 8 numbers as coordinates for the polygon\n",
    "            if len(coords) >= 8:\n",
    "                polygon = [(coords[i], coords[i+1]) for i in range(0, 8, 2)]\n",
    "                \n",
    "                # Draw the polygon on the image\n",
    "                draw.polygon(polygon, outline=\"red\")\n",
    "        \n",
    "        # Save the image with annotations\n",
    "        image.save(output_path)\n",
    "        print(f\"Annotated image saved to {output_path}\")\n",
    "    \n",
    "    except FileNotFoundError:\n",
    "        print(f\"The image at {image_path} was not found.\")\n",
    "    except IOError as e:\n",
    "        print(f\"An error occurred while processing the image: {e}\")"
   ]
  },
  {
   "cell_type": "code",
   "execution_count": 17,
   "metadata": {},
   "outputs": [],
   "source": [
    "image_path = '/home/ubuntu/shared/datasets_for_training/DOTA_tanks_militaryTrucks/val/images/tankAirView_t330_JPG.rf.4d14198de3b5868e61b410bbed8b1fb7.jpg'"
   ]
  },
  {
   "cell_type": "code",
   "execution_count": 18,
   "metadata": {},
   "outputs": [],
   "source": [
    "label_path = '/home/ubuntu/shared/datasets_for_training/DOTA_tanks_militaryTrucks/val/labels/tankAirView_t330_JPG.rf.4d14198de3b5868e61b410bbed8b1fb7.txt'"
   ]
  },
  {
   "cell_type": "code",
   "execution_count": 19,
   "metadata": {},
   "outputs": [],
   "source": [
    "annotations = read_labels_file(label_path)"
   ]
  },
  {
   "cell_type": "code",
   "execution_count": 22,
   "metadata": {},
   "outputs": [
    {
     "name": "stdout",
     "output_type": "stream",
     "text": [
      "(640, 640)\n",
      "Annotated image saved to ./output.png\n"
     ]
    }
   ],
   "source": [
    "draw_annotations_on_image(annotations, image_path, './output.png')"
   ]
  },
  {
   "cell_type": "code",
   "execution_count": 7,
   "metadata": {},
   "outputs": [
    {
     "data": {
      "text/plain": [
       "'81 4 549 4 549 464 81 464 1 0'"
      ]
     },
     "execution_count": 7,
     "metadata": {},
     "output_type": "execute_result"
    }
   ],
   "source": []
  },
  {
   "cell_type": "code",
   "execution_count": null,
   "metadata": {},
   "outputs": [],
   "source": []
  },
  {
   "cell_type": "code",
   "execution_count": null,
   "metadata": {},
   "outputs": [],
   "source": []
  },
  {
   "cell_type": "code",
   "execution_count": null,
   "metadata": {},
   "outputs": [],
   "source": []
  },
  {
   "cell_type": "code",
   "execution_count": null,
   "metadata": {},
   "outputs": [],
   "source": [
    "# Función para dibujar bounding boxes en una imagen\n",
    "def draw_bounding_boxes(image_path, boxes):\n",
    "    # Carga la imagen\n",
    "    image = cv2.imread(image_path)\n",
    "    \n",
    "    # Dibuja cada bounding box\n",
    "    for box in boxes:\n",
    "        # Parsea las coordenadas del bounding box\n",
    "        x1, y1, x2, y2, x3, y3, x4, y4 = map(int, box.split(' ')[:8])\n",
    "        bbox = np.array([[x1, y1], [x2, y2], [x3, y3], [x4, y4]], np.int32)\n",
    "        bbox = bbox.reshape((-1, 1, 2))\n",
    "        \n",
    "        # Dibuja el bounding box en la imagen\n",
    "        image = cv2.polylines(image, [bbox], True, (0, 255, 0), 2)\n",
    "    \n",
    "    # Muestra la imagen con los bounding boxes\n",
    "    cv2.imshow('Bounding Boxes', image)\n",
    "    cv2.waitKey(0)\n",
    "    cv2.destroyAllWindows()"
   ]
  },
  {
   "cell_type": "code",
   "execution_count": 7,
   "metadata": {},
   "outputs": [
    {
     "ename": "",
     "evalue": "",
     "output_type": "error",
     "traceback": [
      "\u001b[1;31mThe Kernel crashed while executing code in the current cell or a previous cell. \n",
      "\u001b[1;31mPlease review the code in the cell(s) to identify a possible cause of the failure. \n",
      "\u001b[1;31mClick <a href='https://aka.ms/vscodeJupyterKernelCrash'>here</a> for more info. \n",
      "\u001b[1;31mView Jupyter <a href='command:jupyter.viewOutput'>log</a> for further details."
     ]
    }
   ],
   "source": [
    "# Ejemplo de uso\n",
    "image_path = image_path\n",
    "# Suponiendo que 'bounding_boxes.txt' contiene los datos de los bounding boxes en formato DOTA\n",
    "bounding_boxes_file = label_path\n",
    "\n",
    "# Lee las coordenadas de los bounding boxes desde el archivo\n",
    "with open(bounding_boxes_file, 'r') as file:\n",
    "    bounding_boxes = file.readlines()\n",
    "\n",
    "# Dibuja los bounding boxes en la imagen\n",
    "draw_bounding_boxes(image_path, bounding_boxes)\n",
    "\n",
    "#draw_bounding_boxes(image_path, label_path)"
   ]
  },
  {
   "cell_type": "code",
   "execution_count": null,
   "metadata": {},
   "outputs": [],
   "source": []
  }
 ],
 "metadata": {
  "kernelspec": {
   "display_name": "yolov8",
   "language": "python",
   "name": "python3"
  },
  "language_info": {
   "codemirror_mode": {
    "name": "ipython",
    "version": 3
   },
   "file_extension": ".py",
   "mimetype": "text/x-python",
   "name": "python",
   "nbconvert_exporter": "python",
   "pygments_lexer": "ipython3",
   "version": "3.10.14"
  }
 },
 "nbformat": 4,
 "nbformat_minor": 2
}
